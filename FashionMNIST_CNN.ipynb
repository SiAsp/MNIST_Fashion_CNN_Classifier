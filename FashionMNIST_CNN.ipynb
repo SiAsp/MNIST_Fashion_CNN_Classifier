{
  "nbformat": 4,
  "nbformat_minor": 0,
  "metadata": {
    "colab": {
      "name": "Untitled0.ipynb",
      "provenance": [],
      "collapsed_sections": [],
      "toc_visible": true
    },
    "kernelspec": {
      "name": "python3",
      "display_name": "Python 3"
    },
    "accelerator": "GPU"
  },
  "cells": [
    {
      "cell_type": "markdown",
      "metadata": {},
      "source": [
        "# INFO284 Asignment 2\n",
        "sas020\n",
        "\n",
        "The network is defined with a learningrate (lr) of 0.001, 30 epochs and a batch size of 100. \n",
        "\n",
        "Through testing I found that increasing the lr would result in the network missing the bottom of the learning-slope, and decreasing the lr resulted in the network not learning fast enough. The model was tested with other lrs souch as 0.0005, 0.003.\n",
        "\n",
        "With the current layering of the model I have found that around 30 epochs are needed for it to close in on it's best possible accuracy. The model was also tested with 40 epochs, this resulted in a testing accuracy of 91.7, but the delta between training and testing sets also increased. The training accuracy on the last epoch was measured at 96.1.\n",
        "\n",
        "The batch size of 100 is the highest I was able to use, before the model would start to overfit, this could be spotted in the acc_history graph, where the accuracy would drastically drop at the start of each epoch. In some instances the accuracy would even drop from ~90% to ~40%. Through my testing the highest possible batch size, where the model did not overfit, yielded the best testing accuracy.\n",
        "\n",
        "There is still some overfitting in the model, the delta between the training and test sets is ~3%.\n",
        "\n",
        "I played around with different layering of the model, and found this to be the optimal. Removing the dropout results in the model overfitting on the training data, and other channel-selections, either more or less, would result in a lower testing accuracy, but keeping the slight overfitting as is now.\n",
        "The same was the situation for the fully connected layer, where more layers would decrease the testing accuracy, while keeping or increasing the slight overfitting.\n"
      ]
    },
    {
      "cell_type": "code",
      "execution_count": null,
      "metadata": {},
      "outputs": [],
      "source": [
        "import matplotlib.pyplot as plt\n",
        "import numpy as np\n",
        "import pandas as pd\n",
        "import torch as T\n",
        "import torch.nn.functional as F\n",
        "import torchvision\n",
        "import torchvision.transforms as transforms\n",
        "\n",
        "from sklearn.metrics import confusion_matrix, plot_confusion_matrix, classification_report\n",
        "from torch.nn import Linear, Module, ReLU, CrossEntropyLoss, Sequential, Conv2d, MaxPool2d, Module, Softmax, BatchNorm2d, Dropout"
      ]
    },
    {
      "cell_type": "code",
      "metadata": {
        "id": "4bf_bulsTJep",
        "colab_type": "code",
        "outputId": "f4bc57cd-304b-4e67-d15b-ee7e411a904d",
        "colab": {
          "base_uri": "https://localhost:8080/",
          "height": 1000
        }
      },
      "source": [
        "class CNN(Module):\n",
        "\t'''Convolutional Neural Network model.'''\n",
        "\tdef __init__(self, lr, epochs, batch_size, num_classes = 10):\n",
        "\t\tsuper(CNN, self).__init__()\n",
        "\n",
        "\t\tself.lr = lr\n",
        "\t\tself.epochs = epochs\n",
        "\t\tself.batch_size = batch_size\n",
        "\t\tself.num_classes = num_classes\n",
        "\t\tself.loss_history = []\n",
        "\t\tself.acc_history = []\n",
        "\t\tself.predictions = []\n",
        "\t\tself.target = []\n",
        "\t\tself.class_labels = [\n",
        "\t\t\t'T-shirt/top',\n",
        "\t\t\t'Trouser',\n",
        "\t\t\t'Pullover',\n",
        "\t\t\t'Dress',\n",
        "\t\t\t'Coat',\n",
        "\t\t\t'Sandal',\n",
        "\t\t\t'Shirt',\n",
        "\t\t\t'Sneaker',\n",
        "\t\t\t'Bag',\n",
        "\t\t\t'Ankle boot',\n",
        "\t\t]\n",
        "\n",
        "\t\tself.device = T.device(\"cuda:0\" if T.cuda.is_available() else \"cpu\")\n",
        "\n",
        "\t\tself.conv_layers = Sequential(\t\n",
        "\t\t\t\t\t\n",
        "\t\t\tConv2d(1, 64, 3),\n",
        "\t\t\tDropout(0.5),\n",
        "\t\t\tBatchNorm2d(64),\n",
        "\t\t\tReLU(),\n",
        "\n",
        "\t\t\tConv2d(64, 256, 3),\n",
        "\t\t\tDropout(0.5),\n",
        "\t\t\tBatchNorm2d(256),\n",
        "\t\t\tReLU(),\n",
        "\t\t\t\n",
        "\t\t\tMaxPool2d(2),\n",
        "\n",
        "\t\t\tConv2d(256, 256, 3),\n",
        "\t\t\tDropout(0.5),\n",
        "\t\t\tBatchNorm2d(256),\n",
        "\t\t\tReLU(),\n",
        "\n",
        "\t\t\tConv2d(256, 256, 3),\n",
        "\t\t\tDropout(0.5),\n",
        "\t\t\tBatchNorm2d(256),\n",
        "\t\t\tReLU(),\n",
        "\t\t\t\n",
        "\t\t\tMaxPool2d(2),\n",
        "\t\t)\n",
        "\n",
        "\t\t# Calculate input-dimentions for fully connected layer\n",
        "\t\tinput_dims = self.calc_input_dims()\n",
        "\t\tself.fc = Sequential(\n",
        "\t\t\tLinear(input_dims, self.num_classes),\n",
        "\t\t)\n",
        "\n",
        "\t\tself.optimizer = T.optim.Adam(self.parameters(), lr=self.lr)\n",
        "\t\tself.criterion = CrossEntropyLoss()\n",
        "\n",
        "\t\tself.to(self.device)\n",
        "\t\tself.get_data()\n",
        "\n",
        "\tdef calc_input_dims(self):\n",
        "\t\t'''Calculate input-dimentions for fully connected layer'''\n",
        "\t\tbatch_data = T.zeros((1, 1, 28, 28))\n",
        "\t\treturn int(np.prod(self.conv_layers(batch_data).size()))\n",
        "\n",
        "\tdef get_data(self):\n",
        "\t\t'''Download and load training and test data'''\n",
        "\t\t## Transformations to tensor\n",
        "\t\ttransform = transforms.Compose([transforms.ToTensor()])\n",
        "\n",
        "\t\t## Download and load training dataset\n",
        "\t\tself.trainset = torchvision.datasets.FashionMNIST(root='./data', train=True, download=True, transform=transform)\n",
        "\t\tself.trainloader = T.utils.data.DataLoader(self.trainset, batch_size=self.batch_size,shuffle=True, num_workers=16)\n",
        "\n",
        "\t\t## Download and load testing dataset\n",
        "\t\tself.testset = torchvision.datasets.FashionMNIST(root='./data', train=False,download=True, transform=transform)\n",
        "\t\tself.testloader = T.utils.data.DataLoader(self.testset, batch_size=self.batch_size, shuffle=False, num_workers=16)\n",
        "\n",
        "\tdef forward(self, batch_data):\n",
        "\t\t'''Forward propagation step'''\n",
        "\t\tbatch_data = T.tensor(batch_data).to(self.device)\n",
        "\n",
        "\t\tbatch_data = self.conv_layers(batch_data)\n",
        "\t\tbatch_data = batch_data.flatten(start_dim = 1)\n",
        "\n",
        "\t\tclasses = self.fc(batch_data)\n",
        "\t\treturn classes\n",
        "\n",
        "\tdef get_accuracy(self, logit, target):\n",
        "\t\t''' Obtain accuracy for training round '''\n",
        "\t\tcorrects = (logit.view(target.size()).data == target.data).sum()\n",
        "\t\taccuracy = 100.0 * corrects / self.batch_size\n",
        "\t\treturn accuracy.item()\n",
        "\n",
        "\n",
        "\tdef _train(self):\n",
        "\t\t'''Train the model'''\n",
        "\t\tself.train()\n",
        "\t\tfor i in range(self.epochs):\n",
        "\t\t\ttrain_loss = 0\n",
        "\t\t\ttrain_acc = []\n",
        "\t\t\tfor j, (images, labels) in enumerate(self.trainloader):\n",
        "\t\t\t\tself.optimizer.zero_grad()\n",
        "\n",
        "\t\t\t\tlabels = labels.to(self.device)\n",
        "\n",
        "\t\t\t\t# Forward + backprop + loss\n",
        "\t\t\t\tlogits = self.forward(images)\n",
        "\t\t\t\tloss = self.criterion(logits, labels)\n",
        "\t\t\t\tlogits = F.softmax(logits, dim=1).argmax(dim=1)\n",
        "\n",
        "\t\t\t\tprediction = self.get_accuracy(logits, labels)\n",
        "\n",
        "\t\t\t\ttrain_loss += loss.detach().item()\n",
        "\t\t\t\ttrain_acc.append(prediction)\n",
        "\t\t\t\tself.acc_history.append(prediction)\n",
        "\n",
        "\t\t\t\tloss.backward()\n",
        "\t\t\t\tself.optimizer.step()\n",
        "\n",
        "\t\t\tself.loss_history.append(train_loss)\n",
        "\t\t\tprint(f'Epoch: {i} | Loss: {train_loss / j:.4f} | Train Accuracy: {np.mean(train_acc):.3f}')\n",
        "\n",
        "\tdef test(self):\n",
        "\t\t'''Test the model'''\n",
        "\t\ttest_loss = 0\n",
        "\t\ttest_acc = []\n",
        "\t\tfor i, (images, labels) in enumerate(self.testloader):\n",
        "\t\t\tlabels = labels.to(self.device)\n",
        "\n",
        "\t\t\t# Forward + backprop + loss\n",
        "\t\t\tlogits = self.forward(images)\n",
        "\t\t\tloss = self.criterion(logits, labels)\n",
        "\t\t\tlogits = F.softmax(logits, dim=1).argmax(dim=1)\n",
        "\t\t\tself.predictions.extend(logits)\n",
        "\t\t\tself.target.extend(labels)\n",
        "\n",
        "\t\t\tprediction = self.get_accuracy(logits, labels)\n",
        "\n",
        "\t\t\ttest_loss += loss.detach().item()\n",
        "\t\t\ttest_acc.append(prediction)\n",
        "\n",
        "\t\tprint(f'Loss: {test_loss / i:.4f} | Accuracy: {np.mean(test_acc):.3f}')\n",
        "\n",
        "\tdef create_report(self):\n",
        "\t\tpredictions = [t.cpu().numpy() for t in self.predictions]\n",
        "\t\ttarget = [t.cpu().numpy() for t in self.target]\n",
        "\n",
        "\t\t# Print classification report\n",
        "\t\tclassification_matrix = classification_report(target, predictions, target_names=self.class_labels)\n",
        "\t\tprint('Classification Report: \\n', classification_matrix)\n",
        "\n",
        "\t\t# Plot testing loss and accuracy gradient\n",
        "\t\tplt.plot(net.loss_history)\n",
        "\t\tplt.show()\n",
        "\t\tplt.plot(net.acc_history)\n",
        "\t\tplt.show()\n",
        "\n",
        "\t\t# Create confusion matrix\n",
        "\t\tconf_matr = confusion_matrix(target, predictions)\n",
        "\t\tprint(conf_matr)\n",
        "\t\tplt.matshow(conf_matr)"
      ],
      "execution_count": 2,
      "outputs": [
        {
          "output_type": "stream",
          "text": [
            "/usr/local/lib/python3.6/dist-packages/ipykernel_launcher.py:101: UserWarning: To copy construct from a tensor, it is recommended to use sourceTensor.clone().detach() or sourceTensor.clone().detach().requires_grad_(True), rather than torch.tensor(sourceTensor).\n"
          ],
          "name": "stderr"
        },
        {
          "output_type": "stream",
          "text": [
            "Epoch: 0 | Loss: 0.5642 | Train Accuracy: 79.583\n",
            "Epoch: 1 | Loss: 0.3636 | Train Accuracy: 86.923\n",
            "Epoch: 2 | Loss: 0.3133 | Train Accuracy: 88.718\n",
            "Epoch: 3 | Loss: 0.2871 | Train Accuracy: 89.650\n",
            "Epoch: 4 | Loss: 0.2669 | Train Accuracy: 90.325\n",
            "Epoch: 5 | Loss: 0.2499 | Train Accuracy: 90.985\n",
            "Epoch: 6 | Loss: 0.2375 | Train Accuracy: 91.452\n",
            "Epoch: 7 | Loss: 0.2299 | Train Accuracy: 91.607\n",
            "Epoch: 8 | Loss: 0.2168 | Train Accuracy: 92.262\n",
            "Epoch: 9 | Loss: 0.2081 | Train Accuracy: 92.403\n",
            "Epoch: 10 | Loss: 0.2016 | Train Accuracy: 92.660\n",
            "Epoch: 11 | Loss: 0.1928 | Train Accuracy: 92.995\n",
            "Epoch: 12 | Loss: 0.1894 | Train Accuracy: 93.128\n",
            "Epoch: 13 | Loss: 0.1833 | Train Accuracy: 93.270\n",
            "Epoch: 14 | Loss: 0.1793 | Train Accuracy: 93.372\n",
            "Epoch: 15 | Loss: 0.1726 | Train Accuracy: 93.678\n",
            "Epoch: 16 | Loss: 0.1677 | Train Accuracy: 93.815\n",
            "Epoch: 17 | Loss: 0.1625 | Train Accuracy: 94.007\n",
            "Epoch: 18 | Loss: 0.1601 | Train Accuracy: 94.112\n",
            "Epoch: 19 | Loss: 0.1551 | Train Accuracy: 94.307\n",
            "Epoch: 20 | Loss: 0.1512 | Train Accuracy: 94.347\n",
            "Epoch: 21 | Loss: 0.1502 | Train Accuracy: 94.433\n",
            "Epoch: 22 | Loss: 0.1442 | Train Accuracy: 94.698\n",
            "Epoch: 23 | Loss: 0.1432 | Train Accuracy: 94.692\n",
            "Epoch: 24 | Loss: 0.1364 | Train Accuracy: 94.958\n",
            "Epoch: 25 | Loss: 0.1355 | Train Accuracy: 95.020\n",
            "Epoch: 26 | Loss: 0.1318 | Train Accuracy: 95.150\n",
            "Epoch: 27 | Loss: 0.1290 | Train Accuracy: 95.235\n",
            "Epoch: 28 | Loss: 0.1247 | Train Accuracy: 95.372\n",
            "Epoch: 29 | Loss: 0.1229 | Train Accuracy: 95.502\n",
            "Loss: 0.2421 | Accuracy: 92.250\n",
            "Classification Report: \n",
            "               precision    recall  f1-score   support\n",
            "\n",
            " T-shirt/top       0.89      0.85      0.87      1000\n",
            "     Trouser       1.00      0.98      0.99      1000\n",
            "    Pullover       0.88      0.91      0.90      1000\n",
            "       Dress       0.91      0.94      0.92      1000\n",
            "        Coat       0.88      0.89      0.88      1000\n",
            "      Sandal       0.98      0.98      0.98      1000\n",
            "       Shirt       0.78      0.77      0.77      1000\n",
            "     Sneaker       0.93      0.98      0.96      1000\n",
            "         Bag       0.99      0.98      0.99      1000\n",
            "  Ankle boot       0.98      0.94      0.96      1000\n",
            "\n",
            "    accuracy                           0.92     10000\n",
            "   macro avg       0.92      0.92      0.92     10000\n",
            "weighted avg       0.92      0.92      0.92     10000\n",
            "\n"
          ],
          "name": "stdout"
        },
        {
          "output_type": "display_data",
          "data": {
            "image/png": "[encoded data removed]",
            "text/plain": [
              "<Figure size 432x288 with 1 Axes>"
            ]
          },
          "metadata": {
            "tags": []
          }
        },
        {
          "output_type": "display_data",
          "data": {
            "image/png": "[encoded data removed]",
            "text/plain": [
              "<Figure size 432x288 with 1 Axes>"
            ]
          },
          "metadata": {
            "tags": []
          }
        },
        {
          "output_type": "stream",
          "text": [
            "[[854   0  24  17   2   1  97   0   5   0]\n",
            " [  2 983   1  10   1   0   2   0   1   0]\n",
            " [  8   1 914   6  31   0  40   0   0   0]\n",
            " [  6   1  11 936  25   0  21   0   0   0]\n",
            " [  1   0  26  27 885   0  60   0   1   0]\n",
            " [  0   0   0   0   0 984   0  12   0   4]\n",
            " [ 90   0  56  25  56   0 768   0   5   0]\n",
            " [  0   0   0   0   0   8   0 981   0  11]\n",
            " [  1   0   5   3   2   1   2   1 985   0]\n",
            " [  0   0   0   0   0   8   0  57   0 935]]\n",
            "Save model? y | n y\n"
          ],
          "name": "stdout"
        },
        {
          "output_type": "stream",
          "text": [
            "/usr/local/lib/python3.6/dist-packages/torch/serialization.py:360: UserWarning: Couldn't retrieve source code for container of type CNN. It won't be checked for correctness upon loading.\n",
            "  \"type \" + obj.__name__ + \". It won't be checked \"\n"
          ],
          "name": "stderr"
        },
        {
          "output_type": "display_data",
          "data": {
            "image/png": "[encoded data removed]",
            "text/plain": [
              "<Figure size 288x288 with 1 Axes>"
            ]
          },
          "metadata": {
            "tags": []
          }
        }
      ]
    },
    {
      "cell_type": "code",
      "execution_count": null,
      "metadata": {},
      "outputs": [],
      "source": [
        "# Create model, train and test\n",
        "net = CNN(lr=0.001, epochs=30, batch_size=100)\n",
        "net._train()\n",
        "net.test()\n",
        "net.create_report()"
      ]
    },
    {
      "cell_type": "code",
      "execution_count": null,
      "metadata": {},
      "outputs": [],
      "source": [
        "# Save the model\n",
        "T.save(net, './fashionMNIST_classifier.pt')"
      ]
    },
    {
      "cell_type": "code",
      "execution_count": null,
      "metadata": {},
      "outputs": [],
      "source": [
        "# Load pre-trained model\n",
        "net = T.load('./fashionMNIST_classifier.pt')\n",
        "net.eval()\n",
        "net.test()"
      ]
    }
  ]
}